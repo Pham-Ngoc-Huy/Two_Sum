{
 "cells": [
  {
   "cell_type": "code",
   "execution_count": 19,
   "metadata": {},
   "outputs": [],
   "source": [
    "import query as qr1\n",
    "import pandas as pd \n",
    "import numpy as np\n",
    "from Automate_sum import main_combination_result as mcr\n",
    "import pyodbc"
   ]
  },
  {
   "cell_type": "code",
   "execution_count": 20,
   "metadata": {},
   "outputs": [],
   "source": [
    "df_1 = pd.read_excel('4. DeductionReivew_20240821_111250.xlsx',sheet_name= 'Mistakelist')"
   ]
  },
  {
   "cell_type": "code",
   "execution_count": 21,
   "metadata": {},
   "outputs": [
    {
     "data": {
      "text/plain": [
       "array([4401971827, 4402250967, 4402499851, 4402536637, 4402624663,\n",
       "       4402668724])"
      ]
     },
     "execution_count": 21,
     "metadata": {},
     "output_type": "execute_result"
    }
   ],
   "source": [
    "checking_list = df_1['SO_HOP_DONG'].unique()\n",
    "checking_list "
   ]
  },
  {
   "cell_type": "code",
   "execution_count": 22,
   "metadata": {},
   "outputs": [
    {
     "data": {
      "text/plain": [
       "<NumpyExtensionArray>\n",
       "[np.int64(20000), np.int64(20000), np.int64(20000), np.int64(20000),\n",
       " np.int64(20000), np.int64(20000)]\n",
       "Length: 6, dtype: int64"
      ]
     },
     "execution_count": 22,
     "metadata": {},
     "output_type": "execute_result"
    }
   ],
   "source": [
    "amount_list = df_1['KHAU_TRU'].array\n",
    "amount_list"
   ]
  },
  {
   "cell_type": "code",
   "execution_count": null,
   "metadata": {},
   "outputs": [],
   "source": [
    "df_result = []\n",
    "conn = pyodbc.connect(\n",
    "    'DRIVER={ODBC Driver 17 for SQL Server};' #look for ODBC in SQL Settings\n",
    "    'SERVER=your_server_name;' # find the server name to input\n",
    "    'DATABASE=your_database_name;' # the database\n",
    "    'UID=your_username;' #the user account\n",
    "    'PWD=your_password' #the password\n",
    ")\n",
    "df = pd.read_sql_query(qr1, conn)\n",
    "\n",
    "for index, sum in zip(checking_list,amount_list):\n",
    "    df_db = df_db.loc[df_db['SO_HOP_DONG'] == index]\n",
    "    df_test = mcr(df_db ,sum, 'SO_HOP_DONG','KHAU_TRU')\n",
    "    df_result.append(df_test)"
   ]
  },
  {
   "cell_type": "code",
   "execution_count": null,
   "metadata": {},
   "outputs": [],
   "source": []
  }
 ],
 "metadata": {
  "kernelspec": {
   "display_name": "base",
   "language": "python",
   "name": "python3"
  },
  "language_info": {
   "codemirror_mode": {
    "name": "ipython",
    "version": 3
   },
   "file_extension": ".py",
   "mimetype": "text/x-python",
   "name": "python",
   "nbconvert_exporter": "python",
   "pygments_lexer": "ipython3",
   "version": "3.12.2"
  }
 },
 "nbformat": 4,
 "nbformat_minor": 2
}
