{
 "cells": [
  {
   "cell_type": "code",
   "execution_count": 4,
   "metadata": {},
   "outputs": [],
   "source": [
    "import query\n",
    "import pandas as pd \n",
    "import numpy as np"
   ]
  },
  {
   "cell_type": "code",
   "execution_count": 6,
   "metadata": {},
   "outputs": [],
   "source": [
    "df_1 = pd.read_excel('4. DeductionReivew_20240821_111250.xlsx',sheet_name= 'Mistakelist')"
   ]
  },
  {
   "cell_type": "code",
   "execution_count": 9,
   "metadata": {},
   "outputs": [
    {
     "data": {
      "text/plain": [
       "array([4401971827, 4402250967, 4402499851, 4402536637, 4402624663,\n",
       "       4402668724])"
      ]
     },
     "execution_count": 9,
     "metadata": {},
     "output_type": "execute_result"
    }
   ],
   "source": [
    "checking_list = df_1['SO_HOP_DONG'].unique()\n",
    "checking_list "
   ]
  },
  {
   "cell_type": "code",
   "execution_count": 17,
   "metadata": {},
   "outputs": [
    {
     "data": {
      "text/plain": [
       "<NumpyExtensionArray>\n",
       "[np.int64(20000), np.int64(20000), np.int64(20000), np.int64(20000),\n",
       " np.int64(20000), np.int64(20000)]\n",
       "Length: 6, dtype: int64"
      ]
     },
     "execution_count": 17,
     "metadata": {},
     "output_type": "execute_result"
    }
   ],
   "source": [
    "amount_list = df_1['KHAU_TRU'].array\n",
    "amount_list"
   ]
  },
  {
   "cell_type": "code",
   "execution_count": null,
   "metadata": {},
   "outputs": [],
   "source": [
    "df_result = []\n",
    "for index, amount in zip(checking_list,amount_list):\n",
    "    #Connect to Oracle \n",
    "    #global variable connection\n",
    "    conn = pyodbc.connect(\n",
    "        'DRIVER={ODBC Driver 17 for SQL Server};' #look for ODBC in SQL Settings\n",
    "        'SERVER=your_server_name;' # find the server name to input\n",
    "        'DATABASE=your_database_name;' # the database\n",
    "        'UID=your_username;' #the user account\n",
    "        'PWD=your_password' #the password\n",
    "    )\n",
    "\n",
    "    cursor = conn.cursor()\n",
    "    #Input query \n",
    "    #Create the dataframe base on query - df_ODAC\n",
    "    df_db = df_db.loc[df_db['SO_HOP_DONG'] == checking_list]\n",
    "    #Apply the function in here - result  \n",
    "    result.append(df_result ) # -> Append both index and amount of each combination \n",
    "     "
   ]
  },
  {
   "cell_type": "code",
   "execution_count": null,
   "metadata": {},
   "outputs": [],
   "source": []
  }
 ],
 "metadata": {
  "kernelspec": {
   "display_name": "base",
   "language": "python",
   "name": "python3"
  },
  "language_info": {
   "codemirror_mode": {
    "name": "ipython",
    "version": 3
   },
   "file_extension": ".py",
   "mimetype": "text/x-python",
   "name": "python",
   "nbconvert_exporter": "python",
   "pygments_lexer": "ipython3",
   "version": "3.12.2"
  }
 },
 "nbformat": 4,
 "nbformat_minor": 2
}
